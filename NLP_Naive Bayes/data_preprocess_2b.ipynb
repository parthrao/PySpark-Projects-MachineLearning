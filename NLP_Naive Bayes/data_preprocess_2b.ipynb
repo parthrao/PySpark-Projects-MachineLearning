{
 "cells": [
  {
   "cell_type": "code",
   "execution_count": 1,
   "metadata": {
    "collapsed": true
   },
   "outputs": [],
   "source": [
    "import pandas as pd\n",
    "import re\n",
    "df=pd.DataFrame(columns=['doc','label'])\n"
   ]
  },
  {
   "cell_type": "code",
   "execution_count": 112,
   "metadata": {},
   "outputs": [],
   "source": [
    "# import os\n",
    "# count=0\n",
    "# for dir in os.listdir(\"./20news-bydate/20news-bydate-train/\"):\n",
    "#         if \".DS_Store\" not in dir:\n",
    "#             for file in os.listdir(\"./20news-bydate/20news-bydate-train/\"+dir):\n",
    "#                 if \".DS_Store\" not in file:\n",
    "#                     with open(os.path.join(\"./20news-bydate/20news-bydate-train/\"+dir,file)) as f:\n",
    "#                         docContent = f.read()\n",
    "#                         entry = pd.DataFrame([[docContent,count]], columns=['doc','label'])\n",
    "#                         df=df.append(entry,ignore_index=True)\n",
    "#             count=count+1"
   ]
  },
  {
   "cell_type": "code",
   "execution_count": 111,
   "metadata": {},
   "outputs": [
    {
     "name": "stdout",
     "output_type": "stream",
     "text": [
      "dir == alt.atheism\n",
      "dir == comp.graphics\n",
      "dir == comp.os.ms-windows.misc\n",
      "dir == comp.sys.ibm.pc.hardware\n",
      "dir == comp.sys.mac.hardware\n",
      "dir == comp.windows.x\n",
      "dir == misc.forsale\n",
      "dir == rec.autos\n",
      "dir == rec.motorcycles\n",
      "dir == rec.sport.baseball\n",
      "dir == rec.sport.hockey\n",
      "dir == sci.crypt\n",
      "dir == sci.electronics\n",
      "dir == sci.med\n",
      "dir == sci.space\n",
      "dir == soc.religion.christian\n",
      "dir == talk.politics.guns\n",
      "dir == talk.politics.mideast\n",
      "dir == talk.politics.misc\n",
      "dir == talk.religion.misc\n"
     ]
    }
   ],
   "source": [
    "import os\n",
    "# count=0\n",
    "train_df = pd.DataFrame(columns=['doc','label'])\n",
    "for dir in os.listdir(\"./20news-bydate/20news-bydate-train/\"):\n",
    "        if \".DS_Store\" not in dir:\n",
    "            print('dir ==', dir)\n",
    "            for file in os.listdir(\"./20news-bydate/20news-bydate-train/\"+dir):\n",
    "                if \".DS_Store\" not in file:\n",
    "                    with codecs.open(os.path.join(\"./20news-bydate/20news-bydate-train/\"+dir,file), \"r\",encoding='utf-8', errors='ignore') as fdata:\n",
    "                        doc = \"\"\n",
    "                        start = False\n",
    "                        for line in fdata:\n",
    "                            if (\"Subject:\" in line):\n",
    "                                doc = doc + line.lower().strip() + \" \"\n",
    "                            if start:\n",
    "                                doc = doc + line.lower().strip() + \" \"\n",
    "                            if(\"Lines:\" in line):\n",
    "                                start = True\n",
    "                        doc = re.sub(r\"\\W+\", \" \", doc)\n",
    "                        doc = re.sub(r\"\\d+\", \"\", doc)\n",
    "                        entry = pd.DataFrame([[doc,dir]], columns=['doc','label'])\n",
    "                        train_df=train_df.append(entry,ignore_index=True)\n",
    "           "
   ]
  },
  {
   "cell_type": "code",
   "execution_count": 49,
   "metadata": {},
   "outputs": [],
   "source": [
    "df = df[df['label'] != 0]"
   ]
  },
  {
   "cell_type": "code",
   "execution_count": 53,
   "metadata": {},
   "outputs": [
    {
     "data": {
      "text/plain": [
       "doc      11314\n",
       "label    11314\n",
       "dtype: int64"
      ]
     },
     "execution_count": 53,
     "metadata": {},
     "output_type": "execute_result"
    }
   ],
   "source": [
    "train_df.count()"
   ]
  },
  {
   "cell_type": "code",
   "execution_count": 114,
   "metadata": {},
   "outputs": [
    {
     "data": {
      "text/html": [
       "<div>\n",
       "<style>\n",
       "    .dataframe thead tr:only-child th {\n",
       "        text-align: right;\n",
       "    }\n",
       "\n",
       "    .dataframe thead th {\n",
       "        text-align: left;\n",
       "    }\n",
       "\n",
       "    .dataframe tbody tr th {\n",
       "        vertical-align: top;\n",
       "    }\n",
       "</style>\n",
       "<table border=\"1\" class=\"dataframe\">\n",
       "  <thead>\n",
       "    <tr style=\"text-align: right;\">\n",
       "      <th></th>\n",
       "      <th>doc</th>\n",
       "      <th>label</th>\n",
       "    </tr>\n",
       "  </thead>\n",
       "  <tbody>\n",
       "    <tr>\n",
       "      <th>0</th>\n",
       "      <td>subject alt atheism faq atheist resources arch...</td>\n",
       "      <td>alt.atheism</td>\n",
       "    </tr>\n",
       "    <tr>\n",
       "      <th>1</th>\n",
       "      <td>subject alt atheism faq introduction to atheis...</td>\n",
       "      <td>alt.atheism</td>\n",
       "    </tr>\n",
       "    <tr>\n",
       "      <th>2</th>\n",
       "      <td>subject re gospel dating in article  mimsy umd...</td>\n",
       "      <td>alt.atheism</td>\n",
       "    </tr>\n",
       "    <tr>\n",
       "      <th>3</th>\n",
       "      <td>subject re university violating separation of ...</td>\n",
       "      <td>alt.atheism</td>\n",
       "    </tr>\n",
       "    <tr>\n",
       "      <th>4</th>\n",
       "      <td>subject re soc motss et al princeton axes matc...</td>\n",
       "      <td>alt.atheism</td>\n",
       "    </tr>\n",
       "  </tbody>\n",
       "</table>\n",
       "</div>"
      ],
      "text/plain": [
       "                                                 doc        label\n",
       "0  subject alt atheism faq atheist resources arch...  alt.atheism\n",
       "1  subject alt atheism faq introduction to atheis...  alt.atheism\n",
       "2  subject re gospel dating in article  mimsy umd...  alt.atheism\n",
       "3  subject re university violating separation of ...  alt.atheism\n",
       "4  subject re soc motss et al princeton axes matc...  alt.atheism"
      ]
     },
     "execution_count": 114,
     "metadata": {},
     "output_type": "execute_result"
    }
   ],
   "source": [
    "train_df.head()"
   ]
  },
  {
   "cell_type": "code",
   "execution_count": 110,
   "metadata": {},
   "outputs": [
    {
     "name": "stdout",
     "output_type": "stream",
     "text": [
      "dir == alt.atheism\n",
      "dir == comp.graphics\n",
      "dir == comp.os.ms-windows.misc\n",
      "dir == comp.sys.ibm.pc.hardware\n",
      "dir == comp.sys.mac.hardware\n",
      "dir == comp.windows.x\n",
      "dir == misc.forsale\n",
      "dir == rec.autos\n",
      "dir == rec.motorcycles\n",
      "dir == rec.sport.baseball\n",
      "dir == rec.sport.hockey\n",
      "dir == sci.crypt\n",
      "dir == sci.electronics\n",
      "dir == sci.med\n",
      "dir == sci.space\n",
      "dir == soc.religion.christian\n",
      "dir == talk.politics.guns\n",
      "dir == talk.politics.mideast\n",
      "dir == talk.politics.misc\n",
      "dir == talk.religion.misc\n"
     ]
    }
   ],
   "source": [
    "test_df = pd.DataFrame(columns=['doc','label'])\n",
    "import os\n",
    "count=0\n",
    "for dir in os.listdir(\"./20news-bydate/20news-bydate-test/\"):\n",
    "        if \".DS_Store\" not in dir:\n",
    "            print('dir ==', dir)\n",
    "            for file in os.listdir(\"./20news-bydate/20news-bydate-test/\"+dir):\n",
    "                if \".DS_Store\" not in file:\n",
    "                    with codecs.open(os.path.join(\"./20news-bydate/20news-bydate-test/\"+dir,file), \"r\",encoding='utf-8', errors='ignore') as fdata:\n",
    "                        doc = \"\"\n",
    "                        start = False\n",
    "                        for line in fdata:\n",
    "                            if (\"Subject:\" in line):\n",
    "                                doc = doc + line.lower().strip() + \" \"\n",
    "                            if start:\n",
    "                                doc = doc + line.lower().strip() + \" \"\n",
    "                            if(\"Lines:\" in line):\n",
    "                                start = True\n",
    "                        doc = re.sub(r\"\\W+\", \" \", doc)\n",
    "                        doc = re.sub(r\"\\d+\", \"\", doc)\n",
    "\n",
    "                        entry = pd.DataFrame([[doc,dir]], columns=['doc','label'])\n",
    "                        test_df = test_df.append(entry,ignore_index=True)\n",
    "            count=count+1"
   ]
  },
  {
   "cell_type": "code",
   "execution_count": 121,
   "metadata": {},
   "outputs": [
    {
     "data": {
      "text/html": [
       "<div>\n",
       "<style>\n",
       "    .dataframe thead tr:only-child th {\n",
       "        text-align: right;\n",
       "    }\n",
       "\n",
       "    .dataframe thead th {\n",
       "        text-align: left;\n",
       "    }\n",
       "\n",
       "    .dataframe tbody tr th {\n",
       "        vertical-align: top;\n",
       "    }\n",
       "</style>\n",
       "<table border=\"1\" class=\"dataframe\">\n",
       "  <thead>\n",
       "    <tr style=\"text-align: right;\">\n",
       "      <th></th>\n",
       "      <th>doc</th>\n",
       "      <th>label</th>\n",
       "    </tr>\n",
       "  </thead>\n",
       "  <tbody>\n",
       "    <tr>\n",
       "      <th>0</th>\n",
       "      <td>subject re about the bible quiz answers in art...</td>\n",
       "      <td>alt.atheism</td>\n",
       "    </tr>\n",
       "    <tr>\n",
       "      <th>1</th>\n",
       "      <td>subject re amusing atheists and agnostics dist...</td>\n",
       "      <td>alt.atheism</td>\n",
       "    </tr>\n",
       "    <tr>\n",
       "      <th>2</th>\n",
       "      <td>subject re yet more rushdie re islamic law jae...</td>\n",
       "      <td>alt.atheism</td>\n",
       "    </tr>\n",
       "    <tr>\n",
       "      <th>3</th>\n",
       "      <td>subject re christian morality is nntp posting ...</td>\n",
       "      <td>alt.atheism</td>\n",
       "    </tr>\n",
       "    <tr>\n",
       "      <th>4</th>\n",
       "      <td>subject re after  years can we say that christ...</td>\n",
       "      <td>alt.atheism</td>\n",
       "    </tr>\n",
       "  </tbody>\n",
       "</table>\n",
       "</div>"
      ],
      "text/plain": [
       "                                                 doc        label\n",
       "0  subject re about the bible quiz answers in art...  alt.atheism\n",
       "1  subject re amusing atheists and agnostics dist...  alt.atheism\n",
       "2  subject re yet more rushdie re islamic law jae...  alt.atheism\n",
       "3  subject re christian morality is nntp posting ...  alt.atheism\n",
       "4  subject re after  years can we say that christ...  alt.atheism"
      ]
     },
     "execution_count": 121,
     "metadata": {},
     "output_type": "execute_result"
    }
   ],
   "source": [
    "test_df.head()"
   ]
  },
  {
   "cell_type": "code",
   "execution_count": 115,
   "metadata": {},
   "outputs": [
    {
     "data": {
      "text/plain": [
       "doc      7532\n",
       "label    7532\n",
       "dtype: int64"
      ]
     },
     "execution_count": 115,
     "metadata": {},
     "output_type": "execute_result"
    }
   ],
   "source": [
    "test_df.count()"
   ]
  },
  {
   "cell_type": "code",
   "execution_count": 118,
   "metadata": {
    "collapsed": true
   },
   "outputs": [],
   "source": [
    "train_df.to_json(\"/Users/parth/Desktop/NYU/3rd_Sem/Bigdata_ML/assignments/hw2b/train.json\",orient='records')"
   ]
  },
  {
   "cell_type": "code",
   "execution_count": 119,
   "metadata": {
    "collapsed": true
   },
   "outputs": [],
   "source": [
    "test_df.to_json(\"/Users/parth/Desktop/NYU/3rd_Sem/Bigdata_ML/assignments/hw2b/test.json\",orient='records')"
   ]
  },
  {
   "cell_type": "code",
   "execution_count": 123,
   "metadata": {},
   "outputs": [],
   "source": [
    "# import codecs\n",
    "# file_name = \"./20news-bydate/20news-bydate-test/alt.atheism/53068\"\n",
    "# with codecs.open(file_name, \"r\",encoding='utf-8', errors='ignore') as fdata:\n",
    "#     doc = \"\"\n",
    "#     start = 0\n",
    "#     for line in fdata:\n",
    "#         if (\"Subject:\" in line):\n",
    "#             doc = doc + line.lower().strip() + \" \"\n",
    "#         if start:\n",
    "#             doc = doc + line.lower().strip() + \" \"\n",
    "#         if(\"Lines:\" in line):\n",
    "#             start = True\n",
    "        \n",
    "#     print (doc)"
   ]
  },
  {
   "cell_type": "code",
   "execution_count": 122,
   "metadata": {},
   "outputs": [],
   "source": [
    "# doc "
   ]
  },
  {
   "cell_type": "code",
   "execution_count": 69,
   "metadata": {},
   "outputs": [],
   "source": [
    "# doc = doc.replace(\":\", \"\")\n",
    "# doc = doc.replace('\\\"', \"\")"
   ]
  },
  {
   "cell_type": "code",
   "execution_count": 87,
   "metadata": {},
   "outputs": [],
   "source": [
    "# import re\n",
    "# doc = re.sub(r\"\\d+\", \"\", doc)"
   ]
  },
  {
   "cell_type": "code",
   "execution_count": null,
   "metadata": {
    "collapsed": true
   },
   "outputs": [],
   "source": []
  }
 ],
 "metadata": {
  "kernelspec": {
   "display_name": "Python 3",
   "language": "python",
   "name": "python3"
  },
  "language_info": {
   "codemirror_mode": {
    "name": "ipython",
    "version": 3
   },
   "file_extension": ".py",
   "mimetype": "text/x-python",
   "name": "python",
   "nbconvert_exporter": "python",
   "pygments_lexer": "ipython3",
   "version": "3.6.3"
  }
 },
 "nbformat": 4,
 "nbformat_minor": 2
}
